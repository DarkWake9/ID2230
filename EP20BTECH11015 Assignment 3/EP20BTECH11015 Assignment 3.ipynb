{
 "cells": [
  {
   "cell_type": "code",
   "execution_count": null,
   "id": "cbc8775d",
   "metadata": {},
   "outputs": [],
   "source": [
    "import numpy as np\n",
    "import pandas as pd\n",
    "\n",
    "data = np.array(pd.read_csv(\"fb-pages-sport.csv\"))\n",
    "noof_edges = len(data)\n",
    "#data\n",
    "noof_edges\n",
    "noof_vertices = max(data[i][0] for i in range(0, noof_edges))\n",
    "noof_vertices"
   ]
  },
  {
   "cell_type": "code",
   "execution_count": 62,
   "id": "14ac3ac2",
   "metadata": {},
   "outputs": [],
   "source": [
    "#Graph in adjacency list form\n",
    "class Graph:\n",
    "    \n",
    "    def __init__(self, noof_vertices):\n",
    "        self.noof_vertices = noof_vertices\n",
    "        self.adjlist = [[] for v in range(self.noof_vertices)]*self.noof_vertices\n",
    "    def connect(self, node1, node2):\n",
    "        temp1 = self.adjlist[node1]\n",
    "        temp2 = self.adjlist[node2]\n",
    "        if node2 not in self.adjlist[node1]:\n",
    "            temp1.append(node2)\n",
    "            self.adjlist[node1] = temp1\n",
    "        temp2 = self.adjlist[node2]\n",
    "        if node1 not in self.adjlist[node2]:\n",
    "            temp2.append(node1)\n",
    "            self.adjlist[node2] = temp2            \n",
    "\n",
    "graph = Graph(noof_vertices)\n",
    "for i in range(0, noof_edges):\n",
    "    graph.connect(data[i][0], data[i][1])"
   ]
  },
  {
   "cell_type": "code",
   "execution_count": 81,
   "id": "7e8663a8",
   "metadata": {},
   "outputs": [],
   "source": [
    "def bfs(adjlist, node1, node2):\n",
    "    visited = [False]*len(adjlist)\n",
    "    queue = [[node1]]\n",
    "    distance = 0\n",
    "    if node1 == node2:\n",
    "        print(\"Same node\")\n",
    "    while queue:\n",
    "        \n",
    "        path = queue.pop(0)\n",
    "        node = path[-1]\n",
    "        #print(path)\n",
    "        distance = len(path)\n",
    "        \n",
    "        if node == node2:\n",
    "            return (path,distance -1)\n",
    "        \n",
    "        if visited[node] == False:\n",
    "            visited[node] = True\n",
    "            nextlvl = adjlist[node]\n",
    "            \n",
    "            for tempnode in nextlvl:\n",
    "                if visited[tempnode] == True:\n",
    "                    continue\n",
    "                else:\n",
    "                    temp = list(path)\n",
    "                    temp.append(tempnode)\n",
    "                    queue.append(temp)            "
   ]
  },
  {
   "cell_type": "code",
   "execution_count": 83,
   "id": "e4ef8999",
   "metadata": {},
   "outputs": [
    {
     "name": "stdout",
     "output_type": "stream",
     "text": [
      "Path: [2, 4683, 10092, 11185, 9798], distance: 4\n"
     ]
    }
   ],
   "source": [
    "path, distance =(bfs(graph.adjlist, 2,9798))\n",
    "print(f\"Path: {path}, distance: {distance}\")"
   ]
  },
  {
   "cell_type": "code",
   "execution_count": null,
   "id": "6a4ab775",
   "metadata": {},
   "outputs": [],
   "source": []
  },
  {
   "cell_type": "code",
   "execution_count": null,
   "id": "942eeb0d",
   "metadata": {},
   "outputs": [],
   "source": []
  }
 ],
 "metadata": {
  "kernelspec": {
   "display_name": "Python 3",
   "language": "python",
   "name": "python3"
  },
  "language_info": {
   "codemirror_mode": {
    "name": "ipython",
    "version": 3
   },
   "file_extension": ".py",
   "mimetype": "text/x-python",
   "name": "python",
   "nbconvert_exporter": "python",
   "pygments_lexer": "ipython3",
   "version": "3.8.8"
  }
 },
 "nbformat": 4,
 "nbformat_minor": 5
}
